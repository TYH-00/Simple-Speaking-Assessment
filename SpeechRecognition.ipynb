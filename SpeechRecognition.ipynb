{
 "cells": [
  {
   "cell_type": "code",
   "execution_count": 6,
   "metadata": {},
   "outputs": [
    {
     "name": "stdout",
     "output_type": "stream",
     "text": [
      "result2:\n",
      "{   'alternative': [   {   'confidence': 0.64555335,\n",
      "                           'transcript': \"what's the low to the left shoulder \"\n",
      "                                         'take the winding path reach the lake '\n",
      "                                         'no closely the size of the gas tank '\n",
      "                                         'wipe the grease off his dirty face '\n",
      "                                         'men to call before you go out the '\n",
      "                                         'Redwood Valley strain and hang limp '\n",
      "                                         'the stray cat gave birth to kittens '\n",
      "                                         'the young girl gave no clear '\n",
      "                                         'response the meal was cooked before '\n",
      "                                         'the bell rang what Joy there is a '\n",
      "                                         'living'},\n",
      "                       {   'transcript': \"what's the low to the left shoulder \"\n",
      "                                         'take the winding path which to make '\n",
      "                                         'no closely the size of the gas tank '\n",
      "                                         'wipe the grease off his dirty face '\n",
      "                                         'men to call before you go out the '\n",
      "                                         'Redwood Valley strain and hung limp '\n",
      "                                         'the stray cat gave birth to kittens '\n",
      "                                         'the young girl gave no clear '\n",
      "                                         'response the meal was cooked before '\n",
      "                                         'the bell rang what Joy there is a '\n",
      "                                         'living'},\n",
      "                       {   'transcript': \"what's the low to the left shoulder \"\n",
      "                                         'take the winding path leads to make '\n",
      "                                         'no closely the size of the gas tank '\n",
      "                                         'wipe the grease off his dirty face '\n",
      "                                         'men to call before you go out the '\n",
      "                                         'wristlet that explained in Hong limp '\n",
      "                                         'the stray cat gave birth to kittens '\n",
      "                                         'the young girl gave no clear '\n",
      "                                         'response the meal was cooked before '\n",
      "                                         'the bell rang what Joy there is a '\n",
      "                                         'living'},\n",
      "                       {   'transcript': \"what's the low to the left shoulder \"\n",
      "                                         'take the winding path leads to make '\n",
      "                                         'no closely the size of the gas tank '\n",
      "                                         'wipe the grease off his dirty face '\n",
      "                                         'men to call before you go out the '\n",
      "                                         'Redwood Valley strain and hung limp '\n",
      "                                         'the stray cat gave birth to kittens '\n",
      "                                         'the young girl gave no clear '\n",
      "                                         'response the meal was cooked before '\n",
      "                                         'the bell rang what Joy there is a '\n",
      "                                         'living'},\n",
      "                       {   'transcript': \"what's the low to the left shoulder \"\n",
      "                                         'take the winding path reach to make '\n",
      "                                         'no closely the size of the gas tank '\n",
      "                                         'wipe the grease off his dirty face '\n",
      "                                         'men to call before you go out the '\n",
      "                                         'Redwood Valley strain and hang limp '\n",
      "                                         'the stray cat gave birth to kittens '\n",
      "                                         'the young girl gave no clear '\n",
      "                                         'response the meal was cooked before '\n",
      "                                         'the bell rang what Joy there is a '\n",
      "                                         'living'}],\n",
      "    'final': True}\n",
      "what's the low to the left shoulder take the winding path reach the lake no closely the size of the gas tank wipe the grease off his dirty face men to call before you go out the Redwood Valley strain and hang limp the stray cat gave birth to kittens the young girl gave no clear response the meal was cooked before the bell rang what Joy there is a living\n"
     ]
    }
   ],
   "source": [
    "import speech_recognition as speech_recog\n",
    "recog = speech_recog.Recognizer()\n",
    "sample_audio = speech_recog.AudioFile('/Users/huangtsaiyuan/Desktop/School/111-2/物聯網/OSR_us_000_0018_8k.wav')\n",
    "with sample_audio as audio_file:\n",
    "    audio_content = recog.record(audio_file)\n",
    "\n",
    "# type(audio_content)\n",
    "result=recog.recognize_google(audio_content)\n",
    "print(result)"
   ]
  },
  {
   "cell_type": "code",
   "execution_count": 10,
   "metadata": {},
   "outputs": [
    {
     "name": "stdout",
     "output_type": "stream",
     "text": [
      "result2:\n",
      "{   'alternative': [   {   'confidence': 0.73131049,\n",
      "                           'transcript': \"what's the low to the left shoulder \"\n",
      "                                         'take the winding path leads to make '\n",
      "                                         'no closely the size of the gas tank '\n",
      "                                         'wipe the grease off his dirty face '\n",
      "                                         'before you go out the roof of Valley '\n",
      "                                         'strained and hung limp the stray cat '\n",
      "                                         'gave birth to kittens the young girl '\n",
      "                                         'gave no clear response the meal was '\n",
      "                                         'cooked before the bell rang what Joy '\n",
      "                                         'there is a living'},\n",
      "                       {   'transcript': \"what's the low to the left shoulder \"\n",
      "                                         'take the winding path leads to make '\n",
      "                                         'no closely the size of the gas tank '\n",
      "                                         'wipe the grease off his dirty face '\n",
      "                                         'before you go out the roof of Valley '\n",
      "                                         'strain and hung limp the stray cat '\n",
      "                                         'gave birth to kittens the young girl '\n",
      "                                         'gave no clear response the meal was '\n",
      "                                         'cooked before the bell rang what Joy '\n",
      "                                         'there is a living'},\n",
      "                       {   'transcript': \"what's the low to the left shoulder \"\n",
      "                                         'take the winding path leads to make '\n",
      "                                         'no closely the size of the gas tank '\n",
      "                                         'wipe the grease off is dirty face '\n",
      "                                         'before you go out the roof of Valley '\n",
      "                                         'strain and hung limp the stray cat '\n",
      "                                         'gave birth to kittens the young girl '\n",
      "                                         'gave no clear response the meal was '\n",
      "                                         'cooked before the bell rang what Joy '\n",
      "                                         'there is a living'},\n",
      "                       {   'transcript': \"what's the low to the left shoulder \"\n",
      "                                         'take the winding path leads to make '\n",
      "                                         'no closely the size of the gas tank '\n",
      "                                         'wipe the grease off his dirty face '\n",
      "                                         'before you go out the roof of Bali '\n",
      "                                         'strain and hung limp the stray cat '\n",
      "                                         'gave birth to kittens the young girl '\n",
      "                                         'gave no clear response the meal was '\n",
      "                                         'cooked before the bell rang what Joy '\n",
      "                                         'there is a living'},\n",
      "                       {   'transcript': \"what's the low to the left shoulder \"\n",
      "                                         'take the winding path leads to make '\n",
      "                                         'no closely the size of the gas tank '\n",
      "                                         'wipe the grease off is dirty face '\n",
      "                                         'before you go out the roof of Bali '\n",
      "                                         'strain and hung limp the stray cat '\n",
      "                                         'gave birth to kittens the young girl '\n",
      "                                         'gave no clear response the meal was '\n",
      "                                         'cooked before the bell rang what Joy '\n",
      "                                         'there is a living'}],\n",
      "    'final': True}\n"
     ]
    }
   ],
   "source": [
    "#降噪\n",
    "sample_audio = speech_recog.AudioFile('/Users/huangtsaiyuan/Desktop/School/111-2/物聯網/OSR_us_000_0018_8k.wav')\n",
    "with sample_audio as audio_file:\n",
    "    recog.adjust_for_ambient_noise(audio_file)\n",
    "    audio_content = recog.record(audio_file)\n",
    "result=[recog.recognize_google(audio_content)]"
   ]
  },
  {
   "cell_type": "code",
   "execution_count": 11,
   "metadata": {},
   "outputs": [
    {
     "data": {
      "text/plain": [
       "[\"what's the low to the left shoulder take the winding path leads to make no closely the size of the gas tank wipe the grease off his dirty face before you go out the roof of Valley strained and hung limp the stray cat gave birth to kittens the young girl gave no clear response the meal was cooked before the bell rang what Joy there is a living\"]"
      ]
     },
     "execution_count": 11,
     "metadata": {},
     "output_type": "execute_result"
    }
   ],
   "source": [
    "result"
   ]
  }
 ],
 "metadata": {
  "kernelspec": {
   "display_name": "111iot",
   "language": "python",
   "name": "python3"
  },
  "language_info": {
   "codemirror_mode": {
    "name": "ipython",
    "version": 3
   },
   "file_extension": ".py",
   "mimetype": "text/x-python",
   "name": "python",
   "nbconvert_exporter": "python",
   "pygments_lexer": "ipython3",
   "version": "3.7.16"
  },
  "orig_nbformat": 4
 },
 "nbformat": 4,
 "nbformat_minor": 2
}
