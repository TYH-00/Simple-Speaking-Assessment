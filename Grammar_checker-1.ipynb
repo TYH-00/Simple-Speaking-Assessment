{
 "cells": [
  {
   "cell_type": "code",
   "execution_count": 4,
   "metadata": {},
   "outputs": [
    {
     "name": "stdout",
     "output_type": "stream",
     "text": [
      "He hates me\n",
      "2\n"
     ]
    }
   ],
   "source": [
    "from gingerit.gingerit import GingerIt\n",
    "text = \"He hate I\"\n",
    "Grammer = GingerIt()\n",
    "Correction = Grammer.parse(text)\n",
    "print(Correction[\"result\"]) # Welcome, Programmer to Python\n",
    "print(len(Correction['corrections']))"
   ]
  }
 ],
 "metadata": {
  "kernelspec": {
   "display_name": "111iot",
   "language": "python",
   "name": "python3"
  },
  "language_info": {
   "codemirror_mode": {
    "name": "ipython",
    "version": 3
   },
   "file_extension": ".py",
   "mimetype": "text/x-python",
   "name": "python",
   "nbconvert_exporter": "python",
   "pygments_lexer": "ipython3",
   "version": "3.7.16"
  },
  "orig_nbformat": 4
 },
 "nbformat": 4,
 "nbformat_minor": 2
}
